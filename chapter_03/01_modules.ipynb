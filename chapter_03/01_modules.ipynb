{
  "nbformat": 4,
  "nbformat_minor": 0,
  "metadata": {
    "colab": {
      "name": "01_modules.ipynb",
      "provenance": [],
      "authorship_tag": "ABX9TyODqTU/M0nW1V5HWGs0zNOi",
      "include_colab_link": true
    },
    "kernelspec": {
      "name": "python3",
      "display_name": "Python 3"
    },
    "language_info": {
      "name": "python"
    },
    "accelerator": "GPU",
    "gpuClass": "standard"
  },
  "cells": [
    {
      "cell_type": "markdown",
      "metadata": {
        "id": "view-in-github",
        "colab_type": "text"
      },
      "source": [
        "<a href=\"https://colab.research.google.com/github/benitogonzalezh/drl-hand-on/blob/main/chapter_03/01_modules.ipynb\" target=\"_parent\"><img src=\"https://colab.research.google.com/assets/colab-badge.svg\" alt=\"Open In Colab\"/></a>"
      ]
    },
    {
      "cell_type": "code",
      "execution_count": 1,
      "metadata": {
        "id": "gYrgTZnVt7mY"
      },
      "outputs": [],
      "source": [
        "import torch\n",
        "import torch.nn as nn"
      ]
    },
    {
      "cell_type": "code",
      "source": [
        "class OurModule(nn.Module):\n",
        "  def __init__(self, num_inputs, num_classes, dropout_prob=0.3):\n",
        "    super(OurModule, self).__init__()\n",
        "    self.pipe = nn.Sequential(\n",
        "        nn.Linear(num_inputs, 5),\n",
        "        nn.ReLU(),\n",
        "        nn.Linear(5, 20),\n",
        "        nn.ReLU(),\n",
        "        nn.Linear(20, num_classes),\n",
        "        nn.Dropout(p=dropout_prob),\n",
        "        nn.Softmax(dim=1)\n",
        "    )\n",
        "  \n",
        "  def forward(self, x):\n",
        "    return self.pipe(x)"
      ],
      "metadata": {
        "id": "ckPTzDDnuJKQ"
      },
      "execution_count": 2,
      "outputs": []
    },
    {
      "cell_type": "code",
      "source": [
        "net = OurModule(num_inputs=2, num_classes=3)\n",
        "print(net)\n",
        "v = torch.FloatTensor([[2, 3]])\n",
        "out = net(v)\n",
        "print(out)\n",
        "print(\"Cuda's availability is %s\" % torch.cuda.is_available())\n",
        "if torch.cuda.is_available():\n",
        "    print(\"Data from cuda: %s\" % out.to('cuda'))"
      ],
      "metadata": {
        "colab": {
          "base_uri": "https://localhost:8080/"
        },
        "id": "4vdwm-JiuzZ6",
        "outputId": "a21eff3b-edc5-4f0d-ec57-6c7ddad76870"
      },
      "execution_count": 3,
      "outputs": [
        {
          "output_type": "stream",
          "name": "stdout",
          "text": [
            "OurModule(\n",
            "  (pipe): Sequential(\n",
            "    (0): Linear(in_features=2, out_features=5, bias=True)\n",
            "    (1): ReLU()\n",
            "    (2): Linear(in_features=5, out_features=20, bias=True)\n",
            "    (3): ReLU()\n",
            "    (4): Linear(in_features=20, out_features=3, bias=True)\n",
            "    (5): Dropout(p=0.3, inplace=False)\n",
            "    (6): Softmax(dim=1)\n",
            "  )\n",
            ")\n",
            "tensor([[0.3571, 0.3571, 0.2858]], grad_fn=<SoftmaxBackward0>)\n",
            "Cuda's availability is True\n",
            "Data from cuda: tensor([[0.3571, 0.3571, 0.2858]], device='cuda:0', grad_fn=<ToCopyBackward0>)\n"
          ]
        }
      ]
    },
    {
      "cell_type": "code",
      "source": [
        ""
      ],
      "metadata": {
        "id": "LVg848c5vTVM"
      },
      "execution_count": null,
      "outputs": []
    }
  ]
}
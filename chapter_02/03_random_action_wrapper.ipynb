{
  "nbformat": 4,
  "nbformat_minor": 0,
  "metadata": {
    "colab": {
      "name": "03_random_action_wrapper.ipynb",
      "provenance": [],
      "authorship_tag": "ABX9TyMk+fI49zuIFpV6FvYqXa+Q",
      "include_colab_link": true
    },
    "kernelspec": {
      "name": "python3",
      "display_name": "Python 3"
    },
    "language_info": {
      "name": "python"
    }
  },
  "cells": [
    {
      "cell_type": "markdown",
      "metadata": {
        "id": "view-in-github",
        "colab_type": "text"
      },
      "source": [
        "<a href=\"https://colab.research.google.com/github/benitogonzalezh/drl-hand-on/blob/main/chapter_02/03_random_action_wrapper.ipynb\" target=\"_parent\"><img src=\"https://colab.research.google.com/assets/colab-badge.svg\" alt=\"Open In Colab\"/></a>"
      ]
    },
    {
      "cell_type": "code",
      "execution_count": 3,
      "metadata": {
        "id": "q-aPlzW-he6v"
      },
      "outputs": [],
      "source": [
        "import gym\n",
        "from typing import TypeVar\n",
        "import random"
      ]
    },
    {
      "cell_type": "code",
      "source": [
        "Action = TypeVar('Action')"
      ],
      "metadata": {
        "id": "HFF_Ed6uhj6u"
      },
      "execution_count": 4,
      "outputs": []
    },
    {
      "cell_type": "code",
      "source": [
        "class RandomActionWrapper(gym.ActionWrapper):\n",
        "  def __init__(self, env, epsilon=0.1):\n",
        "    super(RandomActionWrapper, self).__init__(env)\n",
        "    self.epsilon = epsilon\n",
        "  \n",
        "  def action(self, action: Action) -> Action:\n",
        "    if random.random() < self.epsilon:\n",
        "      print(\"Random!\")\n",
        "      return self.env.action_space.sample()\n",
        "    return action"
      ],
      "metadata": {
        "id": "HrOCHxxhhtIE"
      },
      "execution_count": 5,
      "outputs": []
    },
    {
      "cell_type": "code",
      "source": [
        "env = RandomActionWrapper(gym.make(\"CartPole-v1\"))\n",
        "\n",
        "obs = env.reset()\n",
        "total_reward = 0.0\n",
        "\n",
        "while True:\n",
        "  obs, reward, done, _ = env.step(0)\n",
        "  total_reward += reward\n",
        "  if done:\n",
        "    break\n",
        "\n",
        "print(\"Reward got: %.2f\" % total_reward)"
      ],
      "metadata": {
        "colab": {
          "base_uri": "https://localhost:8080/"
        },
        "id": "pCqtoGeziJlj",
        "outputId": "bff31340-900f-42e6-9b1c-9afdad2a1f86"
      },
      "execution_count": 8,
      "outputs": [
        {
          "output_type": "stream",
          "name": "stdout",
          "text": [
            "Random!\n",
            "Reward got: 11.00\n"
          ]
        }
      ]
    },
    {
      "cell_type": "code",
      "source": [
        ""
      ],
      "metadata": {
        "id": "3XlC6slnibUm"
      },
      "execution_count": 7,
      "outputs": []
    }
  ]
}
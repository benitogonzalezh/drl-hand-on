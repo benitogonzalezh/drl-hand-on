{
  "nbformat": 4,
  "nbformat_minor": 0,
  "metadata": {
    "colab": {
      "name": "Basic_Example.ipynb",
      "provenance": [],
      "authorship_tag": "ABX9TyNEdIVCWK5QLuEvxDJt4kx+",
      "include_colab_link": true
    },
    "kernelspec": {
      "name": "python3",
      "display_name": "Python 3"
    },
    "language_info": {
      "name": "python"
    }
  },
  "cells": [
    {
      "cell_type": "markdown",
      "metadata": {
        "id": "view-in-github",
        "colab_type": "text"
      },
      "source": [
        "<a href=\"https://colab.research.google.com/github/benitogonzalezh/drl-hand-on/blob/main/chapter_02/Basic_Example.ipynb\" target=\"_parent\"><img src=\"https://colab.research.google.com/assets/colab-badge.svg\" alt=\"Open In Colab\"/></a>"
      ]
    },
    {
      "cell_type": "code",
      "execution_count": 6,
      "metadata": {
        "id": "LIRgefTkeHVo"
      },
      "outputs": [],
      "source": [
        "import random\n",
        "from typing import List"
      ]
    },
    {
      "cell_type": "code",
      "source": [
        "class Environment:\n",
        "  def __init__(self):\n",
        "    self.steps_left = 10\n",
        "  \n",
        "  def get_observation(self) -> List[float]:\n",
        "    return [0.0, 0.0, 0.0]\n",
        "\n",
        "  def get_actions(self) -> List[int]:\n",
        "    return [0, 1]\n",
        "\n",
        "  def is_done(self) -> bool:\n",
        "    return self.steps_left == 0\n",
        "\n",
        "  def action(self, action: int) -> float:\n",
        "    if self.is_done():\n",
        "      raise Exception(\"Game is over\")\n",
        "    self.steps_left -= 1\n",
        "    return random.random()"
      ],
      "metadata": {
        "id": "bHi3GYo1eJaX"
      },
      "execution_count": 19,
      "outputs": []
    },
    {
      "cell_type": "code",
      "source": [
        "class Agent:\n",
        "  def __init__(self):\n",
        "    self.total_reward = 0.0\n",
        "  \n",
        "  def step(self, env: Environment):\n",
        "    current_obs = env.get_observation()\n",
        "    actions = env.get_actions()\n",
        "    reward = env.action(random.choice(actions))\n",
        "    self.total_reward += reward"
      ],
      "metadata": {
        "id": "5R4i7FvFe0Pc"
      },
      "execution_count": 20,
      "outputs": []
    },
    {
      "cell_type": "code",
      "source": [
        "env = Environment()\n",
        "agent = Agent()\n",
        "\n",
        "while not env.is_done():\n",
        "  agent.step(env)\n",
        "\n",
        "print(\"Total reward got: %.4f\" % agent.total_reward)"
      ],
      "metadata": {
        "colab": {
          "base_uri": "https://localhost:8080/"
        },
        "id": "3HrvTcoVe9rL",
        "outputId": "ed2c52fb-7962-4c12-881f-a6ebb02a30a0"
      },
      "execution_count": 21,
      "outputs": [
        {
          "output_type": "stream",
          "name": "stdout",
          "text": [
            "Total reward got: 5.0778\n"
          ]
        }
      ]
    },
    {
      "cell_type": "code",
      "source": [
        ""
      ],
      "metadata": {
        "id": "86orMlC0femG"
      },
      "execution_count": null,
      "outputs": []
    }
  ]
}